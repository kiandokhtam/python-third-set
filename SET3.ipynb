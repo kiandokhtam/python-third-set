{
 "cells": [
  {
   "cell_type": "code",
   "execution_count": 1,
   "id": "27ad4526",
   "metadata": {},
   "outputs": [],
   "source": [
    "import math"
   ]
  },
  {
   "cell_type": "code",
   "execution_count": null,
   "id": "ae3a3b17",
   "metadata": {},
   "outputs": [],
   "source": [
    "#1"
   ]
  },
  {
   "cell_type": "code",
   "execution_count": 6,
   "id": "99ddd481",
   "metadata": {},
   "outputs": [],
   "source": [
    "#2 area of circle with radius\n",
    "def circle_area(r):\n",
    "    return 3.1415926535897931*r**2"
   ]
  },
  {
   "cell_type": "code",
   "execution_count": 7,
   "id": "9e7f13e2",
   "metadata": {},
   "outputs": [
    {
     "data": {
      "text/plain": [
       "12.566370614359172"
      ]
     },
     "execution_count": 7,
     "metadata": {},
     "output_type": "execute_result"
    }
   ],
   "source": [
    "circle_area(2)"
   ]
  },
  {
   "cell_type": "code",
   "execution_count": 53,
   "id": "a89b5010",
   "metadata": {},
   "outputs": [],
   "source": [
    "#3 first and last name, returning reversed order #with space in between\n",
    "def name_reversed(a,b):\n",
    "    name_rev = a[::-1]\n",
    "    lname_rev = (b[::-1])\n",
    "    print(name_rev)\n",
    "    print(lname_rev)\n"
   ]
  },
  {
   "cell_type": "code",
   "execution_count": 54,
   "id": "19544a96",
   "metadata": {},
   "outputs": [
    {
     "name": "stdout",
     "output_type": "stream",
     "text": [
      "xaM\n",
      "smaddA\n"
     ]
    }
   ],
   "source": [
    "name_reversed('Max','Addams')"
   ]
  },
  {
   "cell_type": "code",
   "execution_count": 65,
   "id": "3be56b31",
   "metadata": {},
   "outputs": [],
   "source": [
    "#4 comma input of numbers, added together\n",
    "def addition_result(*args):\n",
    "    return sum(args)"
   ]
  },
  {
   "cell_type": "code",
   "execution_count": 66,
   "id": "e2f4ff94",
   "metadata": {},
   "outputs": [
    {
     "data": {
      "text/plain": [
       "16"
      ]
     },
     "execution_count": 66,
     "metadata": {},
     "output_type": "execute_result"
    }
   ],
   "source": [
    "addition_result(5, 10, 1)"
   ]
  },
  {
   "cell_type": "code",
   "execution_count": 74,
   "id": "f64c9df4",
   "metadata": {},
   "outputs": [],
   "source": [
    "#5 give the extension of a file name based on the name the user enters\n",
    "def extension_name():\n",
    "    name = input('enter the name of the file: ')\n",
    "    result = name.split('.')\n",
    "    print('The name of your file is {0}, and the file format is {1}'.format(result[0], result[1]))"
   ]
  },
  {
   "cell_type": "code",
   "execution_count": 75,
   "id": "d90fd781",
   "metadata": {},
   "outputs": [
    {
     "name": "stdout",
     "output_type": "stream",
     "text": [
      "enter the name of the file: picture.jpg\n",
      "The name of your file is picture, and the file format is jpg\n"
     ]
    }
   ],
   "source": [
    "extension_name()"
   ]
  },
  {
   "cell_type": "code",
   "execution_count": null,
   "id": "ac2703d3",
   "metadata": {},
   "outputs": [],
   "source": [
    "#6histogram"
   ]
  },
  {
   "cell_type": "code",
   "execution_count": 86,
   "id": "d490028c",
   "metadata": {},
   "outputs": [],
   "source": [
    "#7 turning a list of numbers to a string of attached numbers\n"
   ]
  },
  {
   "cell_type": "code",
   "execution_count": 14,
   "id": "e5d893e7",
   "metadata": {},
   "outputs": [],
   "source": [
    "#8 printing even and odd numbers of a list(pre_given)\n",
    "def odd_even():\n",
    "    numbers = [10, 20, 5, 6]\n",
    "    q = [i for i in numbers if i %2 == 0]\n",
    "    print('even numbers list is ', q)\n",
    "    b = [num for num in numbers if num %2 != 0]\n",
    "    print('odd numbers list is ', b)"
   ]
  },
  {
   "cell_type": "code",
   "execution_count": 15,
   "id": "79d6af50",
   "metadata": {},
   "outputs": [
    {
     "name": "stdout",
     "output_type": "stream",
     "text": [
      "even numbers list is  [10, 20, 6]\n",
      "odd numbers list is  [5]\n"
     ]
    }
   ],
   "source": [
    "odd_even()"
   ]
  },
  {
   "cell_type": "code",
   "execution_count": 26,
   "id": "b97c8cf6",
   "metadata": {},
   "outputs": [],
   "source": [
    "#9 difference in sets\n",
    "def difference():\n",
    "    colors_1 = {\"White\", \"Black\", \"Red\"}\n",
    "    colors_2 = {\"Red\", \"Green\"}\n",
    "    difference = colors_1.difference(colors_2)\n",
    "    print(difference)\n"
   ]
  },
  {
   "cell_type": "code",
   "execution_count": 27,
   "id": "b99a95cd",
   "metadata": {},
   "outputs": [
    {
     "name": "stdout",
     "output_type": "stream",
     "text": [
      "{'White', 'Black'}\n"
     ]
    }
   ],
   "source": [
    "difference()"
   ]
  },
  {
   "cell_type": "code",
   "execution_count": 28,
   "id": "ae34ef11",
   "metadata": {},
   "outputs": [],
   "source": [
    "#10 largest divisor shared between two numbers"
   ]
  },
  {
   "cell_type": "code",
   "execution_count": 29,
   "id": "ff2034c4",
   "metadata": {},
   "outputs": [],
   "source": [
    "#11 least common multiple(ک م م)"
   ]
  },
  {
   "cell_type": "code",
   "execution_count": 30,
   "id": "08fc70cc",
   "metadata": {},
   "outputs": [],
   "source": [
    "#12 three numbers"
   ]
  },
  {
   "cell_type": "code",
   "execution_count": 31,
   "id": "d313a090",
   "metadata": {},
   "outputs": [],
   "source": [
    "#13 calculating the distnace of two points on a cordinates table\n"
   ]
  },
  {
   "cell_type": "code",
   "execution_count": 32,
   "id": "8024cd03",
   "metadata": {},
   "outputs": [],
   "source": [
    "#14 round function, BMI to two decimals"
   ]
  },
  {
   "cell_type": "code",
   "execution_count": 12,
   "id": "473d33ef",
   "metadata": {},
   "outputs": [],
   "source": [
    "#16 strings, looks weird \n",
    "#index\n",
    "def index(x):\n",
    "    a = input('enter your strings with a space in between: ')\n",
    "    b = (a).split()\n",
    "    print(b)\n",
    "    c = b.index(x)\n",
    "    print(c)"
   ]
  },
  {
   "cell_type": "code",
   "execution_count": 13,
   "id": "a2842dec",
   "metadata": {},
   "outputs": [
    {
     "name": "stdout",
     "output_type": "stream",
     "text": [
      "enter your strings with a space in between: pool prank party\n",
      "['pool', 'prank', 'party']\n",
      "2\n"
     ]
    }
   ],
   "source": [
    "index('party')"
   ]
  },
  {
   "cell_type": "code",
   "execution_count": 21,
   "id": "842ca086",
   "metadata": {},
   "outputs": [],
   "source": [
    "#count\n",
    "def counting():\n",
    "    d = input('enter your word: ')\n",
    "    e = input('which letter would you like to see counted? ')\n",
    "    f = d.count(e)\n",
    "    print(f)"
   ]
  },
  {
   "cell_type": "code",
   "execution_count": 22,
   "id": "a07c31bb",
   "metadata": {},
   "outputs": [
    {
     "name": "stdout",
     "output_type": "stream",
     "text": [
      "enter your word: polymorphism\n",
      "which letter would you like to see counted? p\n",
      "2\n"
     ]
    }
   ],
   "source": [
    "counting()"
   ]
  },
  {
   "cell_type": "code",
   "execution_count": 27,
   "id": "f4cccf06",
   "metadata": {},
   "outputs": [],
   "source": [
    "#isuper: returns true if all letters are uppercase\n",
    "def isupper_check():\n",
    "    g = input(\"enter the phrase you wish to see checked for uppercases: \")\n",
    "    print(g.isupper())"
   ]
  },
  {
   "cell_type": "code",
   "execution_count": 28,
   "id": "6ae5f4c9",
   "metadata": {},
   "outputs": [
    {
     "name": "stdout",
     "output_type": "stream",
     "text": [
      "enter the phrase you wish to see checked for uppercases: pOly\n",
      "False\n"
     ]
    }
   ],
   "source": [
    "isupper_check()"
   ]
  },
  {
   "cell_type": "code",
   "execution_count": 29,
   "id": "28a78c31",
   "metadata": {},
   "outputs": [
    {
     "name": "stdout",
     "output_type": "stream",
     "text": [
      "enter the phrase you wish to see checked for uppercases: POLY\n",
      "True\n"
     ]
    }
   ],
   "source": [
    "isupper_check()"
   ]
  },
  {
   "cell_type": "code",
   "execution_count": 30,
   "id": "b30201b9",
   "metadata": {},
   "outputs": [],
   "source": [
    "#islower\n",
    "def islower_check():\n",
    "    g = input(\"enter the phrase you wish to see checked for uppercases: \")\n",
    "    print(g.islower())"
   ]
  },
  {
   "cell_type": "code",
   "execution_count": 31,
   "id": "b4d3c217",
   "metadata": {},
   "outputs": [
    {
     "name": "stdout",
     "output_type": "stream",
     "text": [
      "enter the phrase you wish to see checked for uppercases: squarepants\n",
      "True\n"
     ]
    }
   ],
   "source": [
    "islower_check()"
   ]
  },
  {
   "cell_type": "code",
   "execution_count": 33,
   "id": "b5af4438",
   "metadata": {},
   "outputs": [],
   "source": [
    "#title = titalizes\n",
    "def title_check():\n",
    "    g = input(\"enter the phrase you wish to see its letters uppercased for a title: \")\n",
    "    print(g.title())"
   ]
  },
  {
   "cell_type": "code",
   "execution_count": 34,
   "id": "d4ff5b96",
   "metadata": {},
   "outputs": [
    {
     "name": "stdout",
     "output_type": "stream",
     "text": [
      "enter the phrase you wish to see its letters uppercased for a title: this is a sample text to make its titles uppercased\n",
      "This Is A Sample Text To Make Its Titles Uppercased\n"
     ]
    }
   ],
   "source": [
    "title_check()"
   ]
  },
  {
   "cell_type": "code",
   "execution_count": 38,
   "id": "1bf6f944",
   "metadata": {},
   "outputs": [],
   "source": [
    "#split\n",
    "def splitting():\n",
    "    g = input(\"enter a long phrase you wish to see its words splitted: \")\n",
    "    h = input('enter a letter so that the phrase can be splited from there')\n",
    "    print(g.split(h))"
   ]
  },
  {
   "cell_type": "code",
   "execution_count": 39,
   "id": "55d40d73",
   "metadata": {},
   "outputs": [
    {
     "name": "stdout",
     "output_type": "stream",
     "text": [
      "enter a long phrase you wish to see its words splitted: afewletterstoseparateatspecificletters\n",
      "enter a letter so that the phrase can be splited from theree\n",
      "['af', 'wl', 'tt', 'rstos', 'parat', 'atsp', 'cificl', 'tt', 'rs']\n"
     ]
    }
   ],
   "source": [
    "splitting()"
   ]
  },
  {
   "cell_type": "code",
   "execution_count": 5,
   "id": "b0e2fdbc",
   "metadata": {},
   "outputs": [],
   "source": [
    "#splitlines: breaks lines at \\n\n",
    "def splitlines_():\n",
    "    i = input(\"enter a long phrase with backslash+n where you want it to go to the next line: \")\n",
    "    print(i.splitlines())"
   ]
  },
  {
   "cell_type": "code",
   "execution_count": 8,
   "id": "3437591f",
   "metadata": {
    "scrolled": false
   },
   "outputs": [
    {
     "name": "stdout",
     "output_type": "stream",
     "text": [
      "enter a long phrase with backslash+n where you want it to go to the next line: A road is between two cities or major places. \\nWhereas, a street is inside a city\n",
      "['A road is between two cities or major places. \\\\nWhereas, a street is inside a city']\n"
     ]
    }
   ],
   "source": [
    "splitlines_()"
   ]
  },
  {
   "cell_type": "code",
   "execution_count": null,
   "id": "361e93af",
   "metadata": {},
   "outputs": [],
   "source": [
    "#why two \\? up there"
   ]
  },
  {
   "cell_type": "code",
   "execution_count": 9,
   "id": "3e5fa5ab",
   "metadata": {},
   "outputs": [],
   "source": [
    "#center\n",
    "def centering():\n",
    "    j = input(\"enter a long phrase with backslash+n where you want it to go to the next line: \")\n",
    "    print(j.center(40))"
   ]
  },
  {
   "cell_type": "code",
   "execution_count": 10,
   "id": "6b35512c",
   "metadata": {},
   "outputs": [
    {
     "name": "stdout",
     "output_type": "stream",
     "text": [
      "enter a long phrase with backslash+n where you want it to go to the next line: brand\n",
      "                 brand                  \n"
     ]
    }
   ],
   "source": [
    "centering()"
   ]
  },
  {
   "cell_type": "code",
   "execution_count": 15,
   "id": "eea4cb8c",
   "metadata": {},
   "outputs": [],
   "source": [
    "#endswith\n",
    "def ends_with():\n",
    "    k = input('enter the phrase you wish to get checked for its last letter: ')\n",
    "    l = input('what letter do you think it ends with most? ')\n",
    "    print(k.endswith(l))"
   ]
  },
  {
   "cell_type": "code",
   "execution_count": 16,
   "id": "8e0b0923",
   "metadata": {},
   "outputs": [
    {
     "name": "stdout",
     "output_type": "stream",
     "text": [
      "enter the phrase you wish to get checked for its last letter: polymorphism\n",
      "what letter do you think it ends with most? m\n",
      "True\n"
     ]
    }
   ],
   "source": [
    "ends_with()"
   ]
  },
  {
   "cell_type": "code",
   "execution_count": 17,
   "id": "8d85f867",
   "metadata": {},
   "outputs": [],
   "source": [
    "#startswith\n",
    "def starts_with():\n",
    "    k = input('enter the phrase you wish to get checked for its last letter: ')\n",
    "    l = input('what letter do you think it ends with most? ')\n",
    "    print(k.startswith(l))"
   ]
  },
  {
   "cell_type": "code",
   "execution_count": 18,
   "id": "ca2abf39",
   "metadata": {},
   "outputs": [
    {
     "name": "stdout",
     "output_type": "stream",
     "text": [
      "enter the phrase you wish to get checked for its last letter: penguin\n",
      "what letter do you think it ends with most? k\n",
      "False\n"
     ]
    }
   ],
   "source": [
    "starts_with()"
   ]
  },
  {
   "cell_type": "code",
   "execution_count": 19,
   "id": "49057e40",
   "metadata": {},
   "outputs": [],
   "source": [
    "#strip for ommitting extra spaces\n",
    "def stripping():\n",
    "    m = input('enter the phrase you wish to get stripped off of spaces: ')\n",
    "    print(m.strip())"
   ]
  },
  {
   "cell_type": "code",
   "execution_count": 20,
   "id": "8ef2d785",
   "metadata": {},
   "outputs": [
    {
     "name": "stdout",
     "output_type": "stream",
     "text": [
      "enter the phrase you wish to get stripped off of spaces:    once in a while in a town   \n",
      "once in a while in a town\n"
     ]
    }
   ],
   "source": [
    "stripping()"
   ]
  },
  {
   "cell_type": "code",
   "execution_count": 4,
   "id": "6c1dcec9",
   "metadata": {},
   "outputs": [],
   "source": [
    "#lstrip : from the left\n",
    "def left_strip():\n",
    "    n = input('enter the phrase you wish to get stripped off of spaces: ')\n",
    "    print('checking the start', n.lstrip())"
   ]
  },
  {
   "cell_type": "code",
   "execution_count": 5,
   "id": "b8d174bd",
   "metadata": {
    "scrolled": true
   },
   "outputs": [
    {
     "name": "stdout",
     "output_type": "stream",
     "text": [
      "enter the phrase you wish to get stripped off of spaces:      penguins in a jungle\n",
      "checking the start penguins in a jungle\n"
     ]
    }
   ],
   "source": [
    "left_strip()"
   ]
  },
  {
   "cell_type": "markdown",
   "id": "4151617c",
   "metadata": {},
   "source": [
    "### lists\n"
   ]
  },
  {
   "cell_type": "code",
   "execution_count": 2,
   "id": "64014d20",
   "metadata": {},
   "outputs": [],
   "source": [
    "#count\n",
    "def count_list():\n",
    "    o = input('enter a list of something with a space in between: ')\n",
    "    q = input('enter the thing you wish to see counted')\n",
    "    p = o.split()\n",
    "    print(p)\n",
    "    print(p.count(q))"
   ]
  },
  {
   "cell_type": "code",
   "execution_count": 7,
   "id": "40c5342b",
   "metadata": {},
   "outputs": [
    {
     "name": "stdout",
     "output_type": "stream",
     "text": [
      "enter a list of something with a space in between: party good food rock\n",
      "enter the thing you wish to see countedparty\n",
      "['party', 'good', 'food', 'rock']\n",
      "1\n"
     ]
    }
   ],
   "source": [
    "count_list()"
   ]
  },
  {
   "cell_type": "code",
   "execution_count": 3,
   "id": "f613e580",
   "metadata": {},
   "outputs": [
    {
     "name": "stdout",
     "output_type": "stream",
     "text": [
      "enter a list of something with a space in between: 1 2 54 6 54 8 1 1\n",
      "enter the thing you wish to see counted1\n",
      "['1', '2', '54', '6', '54', '8', '1', '1']\n",
      "3\n"
     ]
    }
   ],
   "source": [
    "count_list()"
   ]
  },
  {
   "cell_type": "code",
   "execution_count": 6,
   "id": "345c9cf8",
   "metadata": {},
   "outputs": [],
   "source": [
    "#index of list\n",
    "def list_index():\n",
    "    r = input('enter the word you wish to check: ')\n",
    "    s = input('what item would you like to check for index? ')\n",
    "    print(r.index(s))"
   ]
  },
  {
   "cell_type": "code",
   "execution_count": 8,
   "id": "f9e6f929",
   "metadata": {},
   "outputs": [
    {
     "name": "stdout",
     "output_type": "stream",
     "text": [
      "enter the word you wish to check: polymorphism\n",
      "what item would you like to check for index? p\n",
      "0\n"
     ]
    }
   ],
   "source": [
    "list_index()"
   ]
  },
  {
   "cell_type": "code",
   "execution_count": 9,
   "id": "f1cdddc1",
   "metadata": {},
   "outputs": [
    {
     "name": "stdout",
     "output_type": "stream",
     "text": [
      "enter the word you wish to check: 12654\n",
      "what item would you like to check for index? 5\n",
      "3\n"
     ]
    }
   ],
   "source": [
    "list_index()"
   ]
  },
  {
   "cell_type": "markdown",
   "id": "4938ad63",
   "metadata": {},
   "source": [
    "### tuples"
   ]
  },
  {
   "cell_type": "code",
   "execution_count": 10,
   "id": "bcfe3c1a",
   "metadata": {},
   "outputs": [],
   "source": [
    "#count"
   ]
  },
  {
   "cell_type": "code",
   "execution_count": 11,
   "id": "40e7d17c",
   "metadata": {},
   "outputs": [],
   "source": [
    "#index"
   ]
  },
  {
   "cell_type": "code",
   "execution_count": null,
   "id": "40a62f20",
   "metadata": {},
   "outputs": [],
   "source": []
  }
 ],
 "metadata": {
  "kernelspec": {
   "display_name": "Python 3 (ipykernel)",
   "language": "python",
   "name": "python3"
  },
  "language_info": {
   "codemirror_mode": {
    "name": "ipython",
    "version": 3
   },
   "file_extension": ".py",
   "mimetype": "text/x-python",
   "name": "python",
   "nbconvert_exporter": "python",
   "pygments_lexer": "ipython3",
   "version": "3.9.13"
  }
 },
 "nbformat": 4,
 "nbformat_minor": 5
}
